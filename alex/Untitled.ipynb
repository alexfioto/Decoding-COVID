{
 "cells": [
  {
   "cell_type": "code",
   "execution_count": 43,
   "metadata": {},
   "outputs": [],
   "source": [
    "import pandas as pd\n",
    "import matplotlib.pyplot as plt\n",
    "import seaborn as sns\n",
    "\n",
    "plt.style.use('ggplot')"
   ]
  },
  {
   "cell_type": "code",
   "execution_count": 4,
   "metadata": {},
   "outputs": [],
   "source": [
    "df = pd.read_csv('../vivian_fork/combined_political_covid_percent.csv', index_col=0)"
   ]
  },
  {
   "cell_type": "code",
   "execution_count": 5,
   "metadata": {},
   "outputs": [
    {
     "data": {
      "text/html": [
       "<div>\n",
       "<style scoped>\n",
       "    .dataframe tbody tr th:only-of-type {\n",
       "        vertical-align: middle;\n",
       "    }\n",
       "\n",
       "    .dataframe tbody tr th {\n",
       "        vertical-align: top;\n",
       "    }\n",
       "\n",
       "    .dataframe thead th {\n",
       "        text-align: right;\n",
       "    }\n",
       "</style>\n",
       "<table border=\"1\" class=\"dataframe\">\n",
       "  <thead>\n",
       "    <tr style=\"text-align: right;\">\n",
       "      <th></th>\n",
       "      <th>state</th>\n",
       "      <th>never</th>\n",
       "      <th>rarely</th>\n",
       "      <th>sometimes</th>\n",
       "      <th>frequently</th>\n",
       "      <th>always</th>\n",
       "      <th>mask_negative</th>\n",
       "      <th>mask_positive</th>\n",
       "      <th>votesdem</th>\n",
       "      <th>percd</th>\n",
       "      <th>...</th>\n",
       "      <th>percr</th>\n",
       "      <th>electoraldem</th>\n",
       "      <th>electoralrep</th>\n",
       "      <th>pop</th>\n",
       "      <th>blue</th>\n",
       "      <th>red</th>\n",
       "      <th>deaths</th>\n",
       "      <th>cases</th>\n",
       "      <th>percent change deaths</th>\n",
       "      <th>percent change cases</th>\n",
       "    </tr>\n",
       "  </thead>\n",
       "  <tbody>\n",
       "    <tr>\n",
       "      <th>0</th>\n",
       "      <td>AK</td>\n",
       "      <td>0.053429</td>\n",
       "      <td>0.064643</td>\n",
       "      <td>0.092821</td>\n",
       "      <td>0.326393</td>\n",
       "      <td>0.462571</td>\n",
       "      <td>0.118071</td>\n",
       "      <td>0.788964</td>\n",
       "      <td>116454</td>\n",
       "      <td>36.55</td>\n",
       "      <td>...</td>\n",
       "      <td>51.28</td>\n",
       "      <td>0</td>\n",
       "      <td>3</td>\n",
       "      <td>734002</td>\n",
       "      <td>0</td>\n",
       "      <td>1</td>\n",
       "      <td>24</td>\n",
       "      <td>4935</td>\n",
       "      <td>1.263374</td>\n",
       "      <td>2.275397</td>\n",
       "    </tr>\n",
       "    <tr>\n",
       "      <th>1</th>\n",
       "      <td>AL</td>\n",
       "      <td>0.081567</td>\n",
       "      <td>0.081090</td>\n",
       "      <td>0.146612</td>\n",
       "      <td>0.215343</td>\n",
       "      <td>0.475313</td>\n",
       "      <td>0.162657</td>\n",
       "      <td>0.690657</td>\n",
       "      <td>729547</td>\n",
       "      <td>34.36</td>\n",
       "      <td>...</td>\n",
       "      <td>62.08</td>\n",
       "      <td>0</td>\n",
       "      <td>9</td>\n",
       "      <td>4908620</td>\n",
       "      <td>0</td>\n",
       "      <td>1</td>\n",
       "      <td>1228</td>\n",
       "      <td>88654</td>\n",
       "      <td>2.000000</td>\n",
       "      <td>4.203578</td>\n",
       "    </tr>\n",
       "    <tr>\n",
       "      <th>2</th>\n",
       "      <td>AR</td>\n",
       "      <td>0.090920</td>\n",
       "      <td>0.087253</td>\n",
       "      <td>0.138360</td>\n",
       "      <td>0.220627</td>\n",
       "      <td>0.462867</td>\n",
       "      <td>0.178173</td>\n",
       "      <td>0.683493</td>\n",
       "      <td>380494</td>\n",
       "      <td>33.65</td>\n",
       "      <td>...</td>\n",
       "      <td>60.57</td>\n",
       "      <td>0</td>\n",
       "      <td>6</td>\n",
       "      <td>3039000</td>\n",
       "      <td>0</td>\n",
       "      <td>1</td>\n",
       "      <td>537</td>\n",
       "      <td>40300</td>\n",
       "      <td>1.924681</td>\n",
       "      <td>1.404875</td>\n",
       "    </tr>\n",
       "    <tr>\n",
       "      <th>3</th>\n",
       "      <td>AZ</td>\n",
       "      <td>0.049667</td>\n",
       "      <td>0.053200</td>\n",
       "      <td>0.094667</td>\n",
       "      <td>0.147333</td>\n",
       "      <td>0.655000</td>\n",
       "      <td>0.102867</td>\n",
       "      <td>0.802333</td>\n",
       "      <td>1161167</td>\n",
       "      <td>45.13</td>\n",
       "      <td>...</td>\n",
       "      <td>48.67</td>\n",
       "      <td>0</td>\n",
       "      <td>11</td>\n",
       "      <td>7378490</td>\n",
       "      <td>0</td>\n",
       "      <td>1</td>\n",
       "      <td>3322</td>\n",
       "      <td>118223</td>\n",
       "      <td>1.938628</td>\n",
       "      <td>1.901212</td>\n",
       "    </tr>\n",
       "    <tr>\n",
       "      <th>4</th>\n",
       "      <td>CA</td>\n",
       "      <td>0.032310</td>\n",
       "      <td>0.030724</td>\n",
       "      <td>0.063690</td>\n",
       "      <td>0.158603</td>\n",
       "      <td>0.714638</td>\n",
       "      <td>0.063034</td>\n",
       "      <td>0.873241</td>\n",
       "      <td>8753788</td>\n",
       "      <td>61.73</td>\n",
       "      <td>...</td>\n",
       "      <td>31.62</td>\n",
       "      <td>55</td>\n",
       "      <td>0</td>\n",
       "      <td>39937500</td>\n",
       "      <td>1</td>\n",
       "      <td>0</td>\n",
       "      <td>6981</td>\n",
       "      <td>476864</td>\n",
       "      <td>1.131809</td>\n",
       "      <td>1.988889</td>\n",
       "    </tr>\n",
       "  </tbody>\n",
       "</table>\n",
       "<p>5 rows × 21 columns</p>\n",
       "</div>"
      ],
      "text/plain": [
       "  state     never    rarely  sometimes  frequently    always  mask_negative  \\\n",
       "0    AK  0.053429  0.064643   0.092821    0.326393  0.462571       0.118071   \n",
       "1    AL  0.081567  0.081090   0.146612    0.215343  0.475313       0.162657   \n",
       "2    AR  0.090920  0.087253   0.138360    0.220627  0.462867       0.178173   \n",
       "3    AZ  0.049667  0.053200   0.094667    0.147333  0.655000       0.102867   \n",
       "4    CA  0.032310  0.030724   0.063690    0.158603  0.714638       0.063034   \n",
       "\n",
       "   mask_positive  votesdem  percd  ...  percr  electoraldem  electoralrep  \\\n",
       "0       0.788964    116454  36.55  ...  51.28             0             3   \n",
       "1       0.690657    729547  34.36  ...  62.08             0             9   \n",
       "2       0.683493    380494  33.65  ...  60.57             0             6   \n",
       "3       0.802333   1161167  45.13  ...  48.67             0            11   \n",
       "4       0.873241   8753788  61.73  ...  31.62            55             0   \n",
       "\n",
       "        pop  blue  red  deaths   cases  percent change deaths  \\\n",
       "0    734002     0    1      24    4935               1.263374   \n",
       "1   4908620     0    1    1228   88654               2.000000   \n",
       "2   3039000     0    1     537   40300               1.924681   \n",
       "3   7378490     0    1    3322  118223               1.938628   \n",
       "4  39937500     1    0    6981  476864               1.131809   \n",
       "\n",
       "   percent change cases  \n",
       "0              2.275397  \n",
       "1              4.203578  \n",
       "2              1.404875  \n",
       "3              1.901212  \n",
       "4              1.988889  \n",
       "\n",
       "[5 rows x 21 columns]"
      ]
     },
     "execution_count": 5,
     "metadata": {},
     "output_type": "execute_result"
    }
   ],
   "source": [
    "df.head()"
   ]
  },
  {
   "cell_type": "code",
   "execution_count": 6,
   "metadata": {},
   "outputs": [],
   "source": [
    "snap = pd.read_csv('../data/two_month_snapshot.csv', index_col=0)"
   ]
  },
  {
   "cell_type": "code",
   "execution_count": 11,
   "metadata": {},
   "outputs": [],
   "source": [
    "mo = snap[snap['state']=='Missouri']\n",
    "ma = snap[snap['state']=='Massachusetts']"
   ]
  },
  {
   "cell_type": "code",
   "execution_count": 14,
   "metadata": {},
   "outputs": [
    {
     "name": "stderr",
     "output_type": "stream",
     "text": [
      "/Users/alexander.fioto/opt/anaconda3/lib/python3.7/site-packages/ipykernel_launcher.py:1: SettingWithCopyWarning: \n",
      "A value is trying to be set on a copy of a slice from a DataFrame.\n",
      "Try using .loc[row_indexer,col_indexer] = value instead\n",
      "\n",
      "See the caveats in the documentation: https://pandas.pydata.org/pandas-docs/stable/user_guide/indexing.html#returning-a-view-versus-a-copy\n",
      "  \"\"\"Entry point for launching an IPython kernel.\n",
      "/Users/alexander.fioto/opt/anaconda3/lib/python3.7/site-packages/ipykernel_launcher.py:2: SettingWithCopyWarning: \n",
      "A value is trying to be set on a copy of a slice from a DataFrame.\n",
      "Try using .loc[row_indexer,col_indexer] = value instead\n",
      "\n",
      "See the caveats in the documentation: https://pandas.pydata.org/pandas-docs/stable/user_guide/indexing.html#returning-a-view-versus-a-copy\n",
      "  \n"
     ]
    }
   ],
   "source": [
    "mo['date'] = pd.to_datetime(mo['date'])\n",
    "ma['date'] = pd.to_datetime(ma['date'])"
   ]
  },
  {
   "cell_type": "code",
   "execution_count": 23,
   "metadata": {},
   "outputs": [
    {
     "ename": "TypeError",
     "evalue": "set_index() got an unexpected keyword argument 'label'",
     "output_type": "error",
     "traceback": [
      "\u001b[0;31m---------------------------------------------------------------------------\u001b[0m",
      "\u001b[0;31mTypeError\u001b[0m                                 Traceback (most recent call last)",
      "\u001b[0;32m<ipython-input-23-6f9545e9e3a9>\u001b[0m in \u001b[0;36m<module>\u001b[0;34m\u001b[0m\n\u001b[0;32m----> 1\u001b[0;31m \u001b[0mma\u001b[0m\u001b[0;34m.\u001b[0m\u001b[0mset_index\u001b[0m\u001b[0;34m(\u001b[0m\u001b[0;34m'date'\u001b[0m\u001b[0;34m,\u001b[0m \u001b[0minplace\u001b[0m\u001b[0;34m=\u001b[0m\u001b[0;32mTrue\u001b[0m\u001b[0;34m,\u001b[0m \u001b[0mlabel\u001b[0m\u001b[0;34m=\u001b[0m\u001b[0;34m'Massachusetts'\u001b[0m\u001b[0;34m)\u001b[0m\u001b[0;34m\u001b[0m\u001b[0;34m\u001b[0m\u001b[0m\n\u001b[0m\u001b[1;32m      2\u001b[0m \u001b[0mmo\u001b[0m\u001b[0;34m.\u001b[0m\u001b[0mset_index\u001b[0m\u001b[0;34m(\u001b[0m\u001b[0;34m'date'\u001b[0m\u001b[0;34m,\u001b[0m \u001b[0minplace\u001b[0m\u001b[0;34m=\u001b[0m\u001b[0;32mTrue\u001b[0m\u001b[0;34m,\u001b[0m \u001b[0mlabel\u001b[0m\u001b[0;34m=\u001b[0m\u001b[0;34m'Missouri'\u001b[0m\u001b[0;34m)\u001b[0m\u001b[0;34m\u001b[0m\u001b[0;34m\u001b[0m\u001b[0m\n",
      "\u001b[0;31mTypeError\u001b[0m: set_index() got an unexpected keyword argument 'label'"
     ]
    }
   ],
   "source": [
    "ma.set_index('date', inplace=True)\n",
    "mo.set_index('date', inplace=True)"
   ]
  },
  {
   "cell_type": "code",
   "execution_count": 44,
   "metadata": {},
   "outputs": [
    {
     "data": {
      "image/png": "[encoded data removed]",
      "text/plain": [
       "<Figure size 1296x288 with 1 Axes>"
      ]
     },
     "metadata": {},
     "output_type": "display_data"
    }
   ],
   "source": [
    "plt.figure(figsize=(18, 4))\n",
    "plt.plot(ma['zeroed_cases'], label='Massachusetts')\n",
    "plt.plot(mo['zeroed_cases'], label='Missouri')\n",
    "#plt.yscale('log')\n",
    "\n",
    "plt.legend();"
   ]
  },
  {
   "cell_type": "code",
   "execution_count": 45,
   "metadata": {},
   "outputs": [
    {
     "data": {
      "image/png": "[encoded data removed]",
      "text/plain": [
       "<Figure size 432x288 with 1 Axes>"
      ]
     },
     "metadata": {},
     "output_type": "display_data"
    }
   ],
   "source": [
    "sns.lineplot(data=ma, x=ma.index, y='zeroed_cases');"
   ]
  },
  {
   "cell_type": "code",
   "execution_count": null,
   "metadata": {},
   "outputs": [],
   "source": []
  }
 ],
 "metadata": {
  "kernelspec": {
   "display_name": "Python 3",
   "language": "python",
   "name": "python3"
  },
  "language_info": {
   "codemirror_mode": {
    "name": "ipython",
    "version": 3
   },
   "file_extension": ".py",
   "mimetype": "text/x-python",
   "name": "python",
   "nbconvert_exporter": "python",
   "pygments_lexer": "ipython3",
   "version": "3.7.7"
  }
 },
 "nbformat": 4,
 "nbformat_minor": 4
}
